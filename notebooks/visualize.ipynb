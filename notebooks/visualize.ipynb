{
 "cells": [
  {
   "cell_type": "markdown",
   "id": "581bcae7-0e04-478c-8d92-ea4f253b86bc",
   "metadata": {
    "pycharm": {
     "name": "#%% md\n"
    },
    "tags": []
   },
   "source": [
    "# RACPIT visualization"
   ]
  },
  {
   "cell_type": "markdown",
   "id": "b2f5d92a-8f06-458e-9f98-f362d750e100",
   "metadata": {
    "pycharm": {
     "name": "#%% md\n"
    },
    "tags": []
   },
   "source": [
    "![logo](../images/logo128.png) This notebook demonstrates our simulation, preprocessing and visualization pipeline for radar data.\n",
    "See it rendered\n",
    "[here](https://htmlpreview.github.io/?https://github.com/fraunhoferhhi/racpit/blob/master/notebooks/visualize.html)."
   ]
  },
  {
   "cell_type": "code",
   "execution_count": null,
   "id": "fe5aa707",
   "metadata": {
    "collapsed": false,
    "jupyter": {
     "outputs_hidden": false
    },
    "pycharm": {
     "name": "#%%\n"
    }
   },
   "outputs": [],
   "source": [
    "import os\n",
    "os.chdir(\"..\")"
   ]
  },
  {
   "cell_type": "code",
   "execution_count": null,
   "id": "cca2b70b",
   "metadata": {},
   "outputs": [],
   "source": [
    "from pathlib import Path\n",
    "import pandas as pd\n",
    "\n",
    "import numpy as np\n",
    "import xarray as xr\n",
    "\n",
    "from utils.synthesize import synthetic_radar\n",
    "from utils.preprocess import open_recordings, identify_config, raw2rdm\n",
    "\n",
    "from utils import radar\n",
    "from utils import skeletons as sk\n",
    "\n",
    "from utils.visualization import spec_plot, animation_real_synthetic, animation_spec\n",
    "\n",
    "from ifxaion.daq import Daq\n",
    "\n",
    "import matplotlib.pyplot as plt\n",
    "from IPython.display import HTML\n",
    "\n",
    "from networks.img_transf import MultiTransformNet\n",
    "\n",
    "import torch\n",
    "from torch.autograd import Variable"
   ]
  },
  {
   "cell_type": "code",
   "execution_count": null,
   "id": "5c85fb6b-358a-4850-9968-6c20eab5e09b",
   "metadata": {
    "tags": []
   },
   "outputs": [],
   "source": [
    "data_path = Path(\"/mnt/infineon-radar\")\n",
    "\n",
    "raw_dir = data_path / \"daq_x-har\"\n",
    "activity = \"5_Walking_Boxing\"\n",
    "path = raw_dir / f\"{activity}_converted/recording-2020-01-28_12-37-12\"\n",
    "\n",
    "real_path = data_path / \"preprocessed/fixed_size/real\"\n",
    "synth_path = data_path / \"preprocessed/fixed_size/synthetic\"\n",
    "\n",
    "itn_config = \"D\"\n",
    "itn_recording = \"2020-02-05T15:16:08\"\n",
    "itn_path = \"models/publication_I.model\""
   ]
  },
  {
   "cell_type": "markdown",
   "id": "e9862806-9955-4297-b062-e3717f5cc0c7",
   "metadata": {
    "pycharm": {
     "name": "#%% md\n"
    },
    "tags": []
   },
   "source": [
    "## Simulation"
   ]
  },
  {
   "cell_type": "markdown",
   "id": "161437b9-1232-442c-b1ff-653b573d8262",
   "metadata": {
    "pycharm": {
     "name": "#%% md\n"
    },
    "tags": []
   },
   "source": [
    "### Radar data loading"
   ]
  },
  {
   "cell_type": "code",
   "execution_count": null,
   "id": "05eec437",
   "metadata": {},
   "outputs": [],
   "source": [
    "daq = Daq(rec_dir=path)\n",
    "env = daq.env\n",
    "recording = daq.radar[2]\n",
    "rec_config = daq.radar[2].cfg\n",
    "timestamps = recording.data.index\n",
    "ts_seconds = timestamps.total_seconds()"
   ]
  },
  {
   "cell_type": "code",
   "execution_count": null,
   "id": "6195148a",
   "metadata": {},
   "outputs": [],
   "source": [
    "config_name = identify_config(rec_config)\n",
    "\n",
    "rec_config['RadarName'] = rec_config.pop(\"Name\")\n",
    "rec_config['cfg'] = config_name\n",
    "rec_config[\"activity\"] = activity\n",
    "\n",
    "n_samples = rec_config['SamplesPerChirp']\n",
    "m_chirps = rec_config['ChirpsPerFrame']\n",
    "\n",
    "print(f\"Synthetizing data for configuration {config_name}\")"
   ]
  },
  {
   "cell_type": "code",
   "execution_count": null,
   "id": "6c39f9e6",
   "metadata": {},
   "outputs": [],
   "source": [
    "frame_interval_ms = np.mean((timestamps[1:] - timestamps[:-1]).total_seconds()) * 1e3\n",
    "duration_sec = (timestamps[-1] - timestamps[0]).total_seconds()\n",
    "print(f'Mean frame interval:\\t{frame_interval_ms} ms')\n",
    "print(f'Total duration:\\t{duration_sec} seconds')"
   ]
  },
  {
   "cell_type": "markdown",
   "id": "42f66451-ea13-4591-8f4f-b28ae83fcad4",
   "metadata": {
    "pycharm": {
     "name": "#%% md\n"
    },
    "tags": []
   },
   "source": [
    "### Data synthesis"
   ]
  },
  {
   "cell_type": "markdown",
   "id": "e6717ffc-ea38-4325-90d1-8ea074be7e58",
   "metadata": {
    "pycharm": {
     "name": "#%% md\n"
    },
    "tags": []
   },
   "source": [
    "Load skeleton data"
   ]
  },
  {
   "cell_type": "code",
   "execution_count": null,
   "id": "611fca25",
   "metadata": {
    "tags": []
   },
   "outputs": [],
   "source": [
    "skeletons = sk.load(path, verbose=True)\n",
    "sk_interp = sk.interpolate(skeletons, timestamps.total_seconds())\n",
    "sk_da = sk.to_xarray(sk_interp, timestamps, attrs=env)"
   ]
  },
  {
   "cell_type": "markdown",
   "id": "9310c5a7",
   "metadata": {
    "pycharm": {
     "name": "#%% md\n"
    }
   },
   "source": [
    "Synthesize raw data from skeleton points using a radar configuration"
   ]
  },
  {
   "cell_type": "code",
   "execution_count": null,
   "id": "8d1f79ce",
   "metadata": {
    "pycharm": {
     "name": "#%%\n"
    }
   },
   "outputs": [],
   "source": [
    "syntheticData = synthetic_radar(skeletons, rec_config, ts_seconds)\n",
    "\n",
    "assert syntheticData.shape[-2] == m_chirps, \"Number of chirps of synthetic data not correct\"\n",
    "assert syntheticData.shape[-1] == n_samples, \"Number of samples per chirp of synthetic data not correct\"\n",
    "\n",
    "smin = syntheticData.min()\n",
    "smax = syntheticData.max()\n",
    "snorm = (syntheticData - smin) / (smax - smin)\n",
    "raw_synth = pd.DataFrame({\"Timestamps\": timestamps, \"NormData\": [sn for sn in snorm]}).set_index(\"Timestamps\")"
   ]
  },
  {
   "cell_type": "markdown",
   "id": "fd06c539",
   "metadata": {
    "pycharm": {
     "name": "#%% md\n"
    }
   },
   "source": [
    "The result is a DataFrame"
   ]
  },
  {
   "cell_type": "code",
   "execution_count": null,
   "id": "d5ec385d",
   "metadata": {
    "pycharm": {
     "name": "#%%\n"
    }
   },
   "outputs": [],
   "source": [
    "raw_synth"
   ]
  },
  {
   "cell_type": "markdown",
   "id": "5df5924d-3e2a-47c6-90b8-a3ca70d26d16",
   "metadata": {
    "pycharm": {
     "name": "#%% md\n"
    },
    "tags": []
   },
   "source": [
    "### Preprocessing"
   ]
  },
  {
   "cell_type": "markdown",
   "id": "c46026bd-5dd5-4008-be07-64f9f4c48c2d",
   "metadata": {
    "pycharm": {
     "name": "#%% md\n"
    }
   },
   "source": [
    "The raw data is processed and converted to an [*x*array](http://xarray.pydata.org/en/stable/) DataArray"
   ]
  },
  {
   "cell_type": "code",
   "execution_count": null,
   "id": "c777f60f",
   "metadata": {},
   "outputs": [],
   "source": [
    "rdm_synth = raw2rdm(raw_synth, rec_config, env, name=f\"{activity}-{config_name}\")"
   ]
  },
  {
   "cell_type": "markdown",
   "id": "97315310",
   "metadata": {
    "pycharm": {
     "name": "#%% md\n"
    }
   },
   "source": [
    "The Range Doppler Maps can be converted to dB"
   ]
  },
  {
   "cell_type": "code",
   "execution_count": null,
   "id": "06c3813f",
   "metadata": {},
   "outputs": [],
   "source": [
    "rdm_db = xr.apply_ufunc(radar.mag2db, rdm_synth, keep_attrs=True, kwargs={\"normalize\": True})\n",
    "rdm_db.assign_attrs(units=\"dB\")"
   ]
  },
  {
   "cell_type": "markdown",
   "id": "01230d8e",
   "metadata": {},
   "source": [
    "Range & Doppler spectrograms in dB can also be calculated"
   ]
  },
  {
   "cell_type": "code",
   "execution_count": null,
   "id": "153dd8c5",
   "metadata": {
    "collapsed": false,
    "jupyter": {
     "outputs_hidden": false
    },
    "pycharm": {
     "name": "#%%\n"
    }
   },
   "outputs": [],
   "source": [
    "rdm_abs = np.abs(rdm_synth)\n",
    "rspect = rdm_abs.sum(dim=\"doppler\").assign_attrs({\"long_name\": \"Range spectrogram\", \"units\": \"dB\"})\n",
    "dspect = rdm_abs.sum(dim=\"range\").assign_attrs({\"long_name\": \"Doppler spectrogram\", \"units\": \"dB\"})\n",
    "synth_spects = xr.Dataset({\"range_spect\": rspect, \"doppler_spect\": dspect}, attrs=rdm_synth.attrs)\n",
    "synth_spects = xr.apply_ufunc(radar.mag2db, synth_spects, keep_attrs=True, kwargs={\"normalize\": True})\n",
    "\n",
    "synth_spects"
   ]
  },
  {
   "cell_type": "markdown",
   "id": "9d5011b5-7fc7-4ba5-94f9-03c79190c9b2",
   "metadata": {
    "tags": []
   },
   "source": [
    "### Data animations"
   ]
  },
  {
   "cell_type": "markdown",
   "id": "325edabd-469d-44ff-b603-114fe1c41d77",
   "metadata": {
    "tags": []
   },
   "source": [
    "Process range & Doppler information from the real recording and extract a short time slice from it"
   ]
  },
  {
   "cell_type": "code",
   "execution_count": null,
   "id": "22205cdc",
   "metadata": {},
   "outputs": [],
   "source": [
    "time_slice = slice(\"00:00:52\", \"00:01:07\")\n",
    "\n",
    "skeleton_slice = sk_da.sel(time=time_slice)\n",
    "\n",
    "rdm_real = raw2rdm(recording.data, rec_config, env, name=f\"{activity}-{config_name}\")\n",
    "rdm_rabs = np.abs(rdm_real.sel(time=time_slice))\n",
    "\n",
    "rng_spect = rdm_rabs.sum(dim=\"doppler\").assign_attrs({\"long_name\": \"Range spectrogram\", \"units\": \"dB\"})\n",
    "dopp_spect = rdm_rabs.sum(dim=\"range\").assign_attrs({\"long_name\": \"Doppler spectrogram\", \"units\": \"dB\"})\n",
    "real_spects = xr.Dataset({\"range_spect\": rng_spect, \"doppler_spect\": dopp_spect}, attrs=rdm_real.attrs)\n",
    "real_spects = xr.apply_ufunc(radar.mag2db, real_spects, keep_attrs=True, kwargs={\"normalize\": True})\n",
    "\n",
    "rdm_real_db = xr.apply_ufunc(radar.mag2db, rdm_rabs, keep_attrs=True, kwargs={\"normalize\": True})\n",
    "rdm_synth_db = xr.apply_ufunc(radar.normalize_db, rdm_db.sel(time=time_slice), keep_attrs=True)\n"
   ]
  },
  {
   "cell_type": "code",
   "execution_count": null,
   "id": "540ab81f",
   "metadata": {
    "tags": []
   },
   "outputs": [],
   "source": [
    "%%capture\n",
    "anim_rs = animation_real_synthetic(rdm_real_db, rdm_synth_db, skeleton_slice,\n",
    "                                sensor_loc=rec_config[\"position\"], vmin=-40, notebook=True)"
   ]
  },
  {
   "cell_type": "code",
   "execution_count": null,
   "id": "031dfc22",
   "metadata": {},
   "outputs": [],
   "source": [
    "HTML(anim_rs.to_html5_video())"
   ]
  },
  {
   "cell_type": "code",
   "execution_count": null,
   "id": "3069458f",
   "metadata": {},
   "outputs": [],
   "source": [
    "%%capture\n",
    "anim_spects = animation_spec(rdm_real_db, real_spects, vmin=-40, notebook=True)"
   ]
  },
  {
   "cell_type": "code",
   "execution_count": null,
   "id": "f6623b79",
   "metadata": {},
   "outputs": [],
   "source": [
    "HTML(anim_spects.to_html5_video())"
   ]
  },
  {
   "cell_type": "markdown",
   "id": "9398ee61-47c8-4398-9ee7-9660e497e54a",
   "metadata": {
    "pycharm": {
     "name": "#%% md\n"
    },
    "tags": []
   },
   "source": [
    "## Image transformation"
   ]
  },
  {
   "cell_type": "markdown",
   "id": "69c57ed0-5214-4e4d-915d-6693f2bfa976",
   "metadata": {
    "pycharm": {
     "name": "#%% md\n"
    }
   },
   "source": [
    "![RACPIT Architecture](../images/model.png)"
   ]
  },
  {
   "cell_type": "markdown",
   "id": "f9e98f4f-e139-47f9-81cd-4b9996a4f35e",
   "metadata": {
    "pycharm": {
     "name": "#%% md\n"
    },
    "tags": []
   },
   "source": [
    "### Open recordings as a list of `Xarray.Datasets`"
   ]
  },
  {
   "cell_type": "markdown",
   "id": "a918b594-c353-48bb-824c-d24010a84a78",
   "metadata": {
    "pycharm": {
     "name": "#%% md\n"
    }
   },
   "source": [
    "The example uses lazy load, but in the GPU `load=True` boosts performance"
   ]
  },
  {
   "cell_type": "code",
   "execution_count": null,
   "id": "1b4be7b0-291d-4e12-b0ef-818b80a2ad73",
   "metadata": {},
   "outputs": [],
   "source": [
    "real_recs = open_recordings(itn_config, real_path, load=False)\n",
    "synth_recs = open_recordings(itn_config, synth_path, load=False)"
   ]
  },
  {
   "cell_type": "code",
   "execution_count": null,
   "id": "20c2487e",
   "metadata": {
    "tags": []
   },
   "outputs": [],
   "source": [
    "print(f\"{len(real_recs)} recordings have been lazy loaded\")\n",
    "i_rec = [i for i, rec in enumerate(real_recs) if rec.date == itn_recording][0]\n",
    "print(f\"Recording {itn_recording} found at index {i_rec}\")"
   ]
  },
  {
   "cell_type": "code",
   "execution_count": null,
   "id": "13139269",
   "metadata": {},
   "outputs": [],
   "source": [
    "real_rec = real_recs[i_rec]\n",
    "synth_rec = synth_recs[i_rec]"
   ]
  },
  {
   "cell_type": "markdown",
   "id": "679b6f57-36f4-44a9-a224-0a08048663c3",
   "metadata": {},
   "source": [
    "Extract short spectrograms from the recordings"
   ]
  },
  {
   "cell_type": "code",
   "execution_count": null,
   "id": "15ebc9b2-8dd9-4df8-9a93-fae0425775ca",
   "metadata": {},
   "outputs": [],
   "source": [
    "tslice = slice(\"00:01:39\", None)\n",
    "time_length = 64\n",
    "\n",
    "real_spects = real_rec.drop_vars('label').sel(time=tslice).isel(time=slice(0,time_length))\n",
    "synth_spects = synth_rec.drop_vars('label').sel(time=tslice).isel(time=slice(0,time_length))\n",
    "\n",
    "real_spects = xr.apply_ufunc(radar.normalize_db, real_spects.load(), keep_attrs=True)\n",
    "synth_spects = xr.apply_ufunc(radar.normalize_db, synth_spects.load(), keep_attrs=True)"
   ]
  },
  {
   "cell_type": "markdown",
   "id": "89442fe7-ba23-4d46-90ac-75b3431056e4",
   "metadata": {
    "tags": []
   },
   "source": [
    "### Transform images"
   ]
  },
  {
   "cell_type": "markdown",
   "id": "732e14cf-44c5-46b3-ac74-54a327eecbd6",
   "metadata": {
    "tags": []
   },
   "source": [
    "Load Image Transformation Network"
   ]
  },
  {
   "cell_type": "code",
   "execution_count": null,
   "id": "2961332a-afef-410b-a0dd-df8d72415632",
   "metadata": {
    "tags": []
   },
   "outputs": [],
   "source": [
    "dtype = torch.FloatTensor\n",
    "\n",
    "transformer = MultiTransformNet(num_inputs=2, num_channels=1)\n",
    "transformer.load_state_dict(torch.load(itn_path))\n",
    "_ = transformer.eval()"
   ]
  },
  {
   "cell_type": "markdown",
   "id": "2d575fb9-3dc6-4c73-a6cf-7747e28cf742",
   "metadata": {},
   "source": [
    "Transform real data with the ITN"
   ]
  },
  {
   "cell_type": "code",
   "execution_count": null,
   "id": "7fe74785-25d5-4de3-a45f-b7a108812d42",
   "metadata": {},
   "outputs": [],
   "source": [
    "range_inp = torch.from_numpy(real_spects.range_spect.values[None, None, :, :])\n",
    "dopp_inp = torch.from_numpy(real_spects.doppler_spect.values[None, None, :, :])\n",
    "spec_input = [Variable(range_inp, requires_grad=False).type(dtype), Variable(dopp_inp, requires_grad=False).type(dtype)]\n",
    "\n",
    "range_hat, doppler_hat = transformer(spec_input)\n",
    "range_trans = range_hat.detach().numpy()\n",
    "doppler_trans = doppler_hat.detach().numpy()"
   ]
  },
  {
   "cell_type": "code",
   "execution_count": null,
   "id": "e148ead0-3356-4d10-bd54-22dfde6e114f",
   "metadata": {},
   "outputs": [],
   "source": [
    "spectrograms = xr.merge([real_spects.rename_vars(range_spect=\"range_real\", doppler_spect=\"doppler_real\"),\n",
    "                         synth_spects.rename_vars(range_spect=\"range_synth\", doppler_spect=\"doppler_synth\")],\n",
    "                        combine_attrs=\"drop_conflicts\")\n",
    "spectrograms[\"range_trans\"] = (['time', 'range'],  np.squeeze(range_trans), {\"units\": \"dB\"})\n",
    "spectrograms[\"doppler_trans\"] = (['time', 'doppler'],  np.squeeze(doppler_trans), {\"units\": \"dB\"})"
   ]
  },
  {
   "cell_type": "markdown",
   "id": "ba9a2ac9-334d-43aa-b7f5-446b989a43ff",
   "metadata": {
    "jupyter": {
     "outputs_hidden": false
    },
    "pycharm": {
     "name": "#%%\n"
    },
    "tags": []
   },
   "source": [
    "### Plotting"
   ]
  },
  {
   "cell_type": "code",
   "execution_count": null,
   "id": "a4e3609c-fcb3-4bcd-b5de-8460c966aff8",
   "metadata": {
    "collapsed": false,
    "jupyter": {
     "outputs_hidden": false
    },
    "pycharm": {
     "name": "#%%\n"
    }
   },
   "outputs": [],
   "source": [
    "fig, axes = plt.subplots(2, 3, figsize=(12, 8))\n",
    "\n",
    "spec_plot(spectrograms[[\"range_real\", \"range_trans\", \"range_synth\", \"doppler_real\", \"doppler_trans\", \"doppler_synth\"]],\n",
    "          axes=axes.flatten(), ax_xlabel=axes[-1], vmin=-40, vmax=0, add_colorbar=False)\n",
    "\n",
    "im = axes[-1][-1].get_images()[0]\n",
    "fig.align_ylabels(axes[:,0])\n",
    "_ = [ax.set_ylabel(None) for ax in axes[:,1:].flatten()]\n",
    "\n",
    "cbar = plt.colorbar(im, ax=axes, orientation=\"horizontal\")\n",
    "cbar.set_label(\"Amplitude [dB]\")\n",
    "\n",
    "for title, ax in zip((\"Real data $x$\", \"Transformed data $\\widehat{y}$\", \"Synthetic data $y$\"), axes[0]):\n",
    "     ax.set_title(title)"
   ]
  }
 ],
 "metadata": {
  "kernelspec": {
   "display_name": "Python 3 (ipykernel)",
   "language": "python",
   "name": "python3"
  },
  "language_info": {
   "codemirror_mode": {
    "name": "ipython",
    "version": 3
   },
   "file_extension": ".py",
   "mimetype": "text/x-python",
   "name": "python",
   "nbconvert_exporter": "python",
   "pygments_lexer": "ipython3",
   "version": "3.8.12"
  },
  "pycharm": {
   "stem_cell": {
    "cell_type": "raw",
    "metadata": {
     "collapsed": false
    },
    "source": []
   }
  },
  "toc-autonumbering": false,
  "toc-showcode": false,
  "toc-showmarkdowntxt": true
 },
 "nbformat": 4,
 "nbformat_minor": 5
}
